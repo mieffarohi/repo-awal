{
 "cells": [
  {
   "cell_type": "code",
   "execution_count": 1,
   "id": "6a9ad75b",
   "metadata": {},
   "outputs": [],
   "source": [
    "import sqlite3\n",
    "import pandas as pd\n",
    "import os\n",
    "import shutil"
   ]
  },
  {
   "cell_type": "code",
   "execution_count": 2,
   "id": "aa6842ae",
   "metadata": {},
   "outputs": [],
   "source": [
    "# Setup\n",
    "if os.path.exists(\"databaseku.db\"):\n",
    "    os.remove(\"databaseku.db\")\n",
    "else:\n",
    "    print(\"The file does not exist\")"
   ]
  },
  {
   "cell_type": "code",
   "execution_count": 3,
   "id": "6d4ab8db",
   "metadata": {},
   "outputs": [],
   "source": [
    "connection = sqlite3.connect('databaseku.db')"
   ]
  },
  {
   "cell_type": "code",
   "execution_count": 4,
   "id": "6333e903",
   "metadata": {},
   "outputs": [],
   "source": [
    "def lihat_daftar_tabel(con):\n",
    "    cursorObj = con.cursor()\n",
    "    cursorObj.execute('SELECT name FROM sqlite_master WHERE type= \"table\"')\n",
    "    print(cursorObj.fetchall())"
   ]
  },
  {
   "cell_type": "code",
   "execution_count": 5,
   "id": "64f991e5",
   "metadata": {},
   "outputs": [
    {
     "name": "stdout",
     "output_type": "stream",
     "text": [
      "[]\n"
     ]
    }
   ],
   "source": [
    "# Buat Koneksi ke Database\n",
    "connection = sqlite3.connect('databaseku.db')\n",
    "\n",
    "# Panggil Fungsi untuk Lihat Daftar Tabel\n",
    "lihat_daftar_tabel(connection)\n",
    "connection.close()"
   ]
  },
  {
   "cell_type": "code",
   "execution_count": 6,
   "id": "f2134e84",
   "metadata": {},
   "outputs": [
    {
     "data": {
      "text/plain": [
       "'data_penjualan.db'"
      ]
     },
     "execution_count": 6,
     "metadata": {},
     "output_type": "execute_result"
    }
   ],
   "source": [
    "if os.path.exists(\"data_penjualan.db\"):\n",
    "    os.remove(\"data_penjualan.db\")\n",
    "else:\n",
    "    print(\"The file does not exist\")\n",
    "\n",
    "shutil.copyfile(\"data_penjualan_ori.db\", \"data_penjualan.db\")"
   ]
  },
  {
   "cell_type": "code",
   "execution_count": 7,
   "id": "8d927881",
   "metadata": {},
   "outputs": [
    {
     "name": "stdout",
     "output_type": "stream",
     "text": [
      "[('orders',), ('sqlite_sequence',), ('agents',), ('customer',)]\n"
     ]
    }
   ],
   "source": [
    "# Buat Koneksi ke Database\n",
    "connection = sqlite3.connect('data_penjualan.db')\n",
    "\n",
    "# Panggil Fungsi untuk Lihat Daftar Tabel\n",
    "lihat_daftar_tabel(connection)\n",
    "connection.close()"
   ]
  },
  {
   "cell_type": "code",
   "execution_count": 8,
   "id": "05e2a9f1",
   "metadata": {},
   "outputs": [],
   "source": [
    "connection.close()"
   ]
  },
  {
   "cell_type": "code",
   "execution_count": 9,
   "id": "bf37d991",
   "metadata": {},
   "outputs": [],
   "source": [
    "# Buat Koneksi ke Database\n",
    "connection = sqlite3.connect('databaseku.db')\n",
    "\n",
    "# Buat Query SQL\n",
    "result = connection.cursor()\n",
    "command = \"\"\"\n",
    "            CREATE TABLE siswa (\n",
    "               id_siswa INTEGER PRIMARY KEY,\n",
    "               nama TEXT NOT NULL,\n",
    "               umur INTEGER NOT NULL\n",
    "            );\n",
    "          \"\"\"\n",
    "# Eksekusi Query SQL\n",
    "result.execute(command)\n",
    "connection.close()"
   ]
  },
  {
   "cell_type": "code",
   "execution_count": 10,
   "id": "4e235beb",
   "metadata": {},
   "outputs": [
    {
     "name": "stdout",
     "output_type": "stream",
     "text": [
      "[('siswa',)]\n"
     ]
    }
   ],
   "source": [
    "# Buat Koneksi ke Database\n",
    "connection = sqlite3.connect('databaseku.db')\n",
    "\n",
    "# Panggil Fungsi untuk Lihat Daftar Tabel\n",
    "lihat_daftar_tabel(connection)\n",
    "connection.close()"
   ]
  },
  {
   "cell_type": "code",
   "execution_count": 11,
   "id": "e60a5f73",
   "metadata": {},
   "outputs": [
    {
     "data": {
      "text/plain": [
       "'data_penjualan.db'"
      ]
     },
     "execution_count": 11,
     "metadata": {},
     "output_type": "execute_result"
    }
   ],
   "source": [
    "# Setup\n",
    "if os.path.exists(\"data_penjualan.db\"):\n",
    "    os.remove(\"data_penjualan.db\")\n",
    "else:\n",
    "    print(\"The file does not exist\")\n",
    "\n",
    "shutil.copyfile(\"data_penjualan_ori.db\", \"data_penjualan.db\")"
   ]
  },
  {
   "cell_type": "code",
   "execution_count": null,
   "id": "9b954220",
   "metadata": {},
   "outputs": [],
   "source": []
  }
 ],
 "metadata": {
  "kernelspec": {
   "display_name": "Python 3 (ipykernel)",
   "language": "python",
   "name": "python3"
  },
  "language_info": {
   "codemirror_mode": {
    "name": "ipython",
    "version": 3
   },
   "file_extension": ".py",
   "mimetype": "text/x-python",
   "name": "python",
   "nbconvert_exporter": "python",
   "pygments_lexer": "ipython3",
   "version": "3.9.7"
  }
 },
 "nbformat": 4,
 "nbformat_minor": 5
}
